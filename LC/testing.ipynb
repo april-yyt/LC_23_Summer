{
 "cells": [
  {
   "cell_type": "code",
   "execution_count": 4,
   "metadata": {},
   "outputs": [
    {
     "name": "stdout",
     "output_type": "stream",
     "text": [
      "a, b, x, y: 0 0 0 0\n",
      "0\n",
      "counter: {}\n",
      "a, b, x, y: 0 0 1 0\n",
      "1\n",
      "counter: {0: 1}\n",
      "a, b, x, y: 0 0 2 0\n",
      "4\n",
      "counter: {0: 1, 1: 1}\n",
      "a, b, x, y: 1 0 0 0\n",
      "1\n",
      "counter: {}\n",
      "a, b, x, y: 1 0 1 0\n",
      "0\n",
      "counter: {1: 1}\n",
      "a, b, x, y: 1 0 2 0\n",
      "1\n",
      "counter: {1: 1, 0: 1}\n",
      "a, b, x, y: 2 0 0 0\n",
      "4\n",
      "counter: {}\n",
      "a, b, x, y: 2 0 1 0\n",
      "1\n",
      "counter: {4: 1}\n",
      "a, b, x, y: 2 0 2 0\n",
      "0\n",
      "counter: {4: 1, 1: 1}\n"
     ]
    }
   ],
   "source": [
    "points = [[0,0],[1,0],[2,0]]\n",
    "\n",
    "n = 0\n",
    "for a, b in points:\n",
    "    counter = {}\n",
    "    for x, y in points:\n",
    "        key = (x-a)**2 + (y-b)**2 # calculate the distance\n",
    "        print('a, b, x, y:', a, b, x, y)\n",
    "        print(key)\n",
    "        print('counter:', counter)\n",
    "        if key in counter:\n",
    "            n += 2*counter[key]\n",
    "            counter[key]+= 1\n",
    "        else:\n",
    "            counter[key] = 1\n"
   ]
  },
  {
   "cell_type": "code",
   "execution_count": null,
   "metadata": {},
   "outputs": [],
   "source": []
  }
 ],
 "metadata": {
  "kernelspec": {
   "display_name": "Python 3",
   "language": "python",
   "name": "python3"
  },
  "language_info": {
   "codemirror_mode": {
    "name": "ipython",
    "version": 3
   },
   "file_extension": ".py",
   "mimetype": "text/x-python",
   "name": "python",
   "nbconvert_exporter": "python",
   "pygments_lexer": "ipython3",
   "version": "3.9.6"
  },
  "orig_nbformat": 4
 },
 "nbformat": 4,
 "nbformat_minor": 2
}
